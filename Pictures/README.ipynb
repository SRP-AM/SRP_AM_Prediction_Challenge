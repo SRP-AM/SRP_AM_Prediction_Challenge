{
 "cells": [
  {
   "cell_type": "markdown",
   "id": "c72b674e",
   "metadata": {},
   "source": [
    "# Pictures\n",
    "## List of Files\n",
    "\n",
    "|File Name| Description|\n",
    "|:---|:---|\n",
    "|BeforeDepositionJul 31, 10 49 29 AM.jpg| System setup before deposition|\n",
    "|CalPartJul 31, 2 57 02 PM.jpg| Calibration part printed|\n",
    "|ChalPartAug 02, 9 38 35 AM.jpg |Challenge part printed|\n",
    "|ClampSetupJul 31, 5 43 48 PM.jpg |Clamp and thermocouple assembly picture|\n",
    "|RoomTCJul 31, 9 57 12 AM.jpg |Room temperature thermocouple location|\n",
    "|TableTCJul 31, 9 57 17 AM.jpg| Table thermocouple setup picture|\n",
    "|TCNumbering.png |Thermocouple numbering|"
   ]
  },
  {
   "cell_type": "code",
   "execution_count": null,
   "id": "3b5582e7",
   "metadata": {},
   "outputs": [],
   "source": []
  }
 ],
 "metadata": {
  "kernelspec": {
   "display_name": "Python 3",
   "language": "python",
   "name": "python3"
  },
  "language_info": {
   "codemirror_mode": {
    "name": "ipython",
    "version": 3
   },
   "file_extension": ".py",
   "mimetype": "text/x-python",
   "name": "python",
   "nbconvert_exporter": "python",
   "pygments_lexer": "ipython3",
   "version": "3.8.8"
  }
 },
 "nbformat": 4,
 "nbformat_minor": 5
}
